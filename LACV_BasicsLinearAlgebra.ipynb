{
  "nbformat": 4,
  "nbformat_minor": 0,
  "metadata": {
    "colab": {
      "name": "LACV_BasicsLinearAlgebra.ipynb",
      "provenance": [],
      "collapsed_sections": [],
      "toc_visible": true,
      "include_colab_link": true
    },
    "language_info": {
      "codemirror_mode": {
        "name": "ipython",
        "version": 3
      },
      "file_extension": ".py",
      "mimetype": "text/x-python",
      "name": "python",
      "nbconvert_exporter": "python",
      "pygments_lexer": "ipython3",
      "version": "3.6.5"
    },
    "kernelspec": {
      "name": "python3",
      "display_name": "Python 3"
    },
    "accelerator": "GPU"
  },
  "cells": [
    {
      "cell_type": "markdown",
      "metadata": {
        "id": "view-in-github",
        "colab_type": "text"
      },
      "source": [
        "<a href=\"https://colab.research.google.com/github/lualcava/2015-Paper-Sigatoka/blob/master/LACV_BasicsLinearAlgebra.ipynb\" target=\"_parent\"><img src=\"https://colab.research.google.com/assets/colab-badge.svg\" alt=\"Open In Colab\"/></a>"
      ]
    },
    {
      "cell_type": "markdown",
      "metadata": {
        "colab_type": "text",
        "id": "jYQE37rOc539"
      },
      "source": [
        "# Matemática para Ciencia de los Datos\n",
        "\n",
        "-Profesor: Luis Alexánder Calvo Valverde.\n",
        "\n",
        "- Documento base: Saúl Calderón, Žiga Emeršič, Ángel García, Blaž Meden, Felipe Meza, Martín Solís, Juan Esquivel, Mauro Méndez, Manuel Zumbado."
      ]
    },
    {
      "cell_type": "markdown",
      "metadata": {
        "id": "-ROgYfJVH5_8",
        "colab_type": "text"
      },
      "source": [
        "# Sistemas lineales \n",
        "\n",
        "Gran parte del curso se basará en el estudio de sistemas o modelos lineales para realizar desde el filtrado de una señal (ya sea para eliminar aspectos indeseados, o mejorar cualidades de importancia), hasta la construcción de modelos de clasificación. \n",
        "\n",
        "Aunque gran parte de los sistemas reales son no lineales, modelos aproximados lineales de tales sistemas facilitan su análisis. Se presentan entonces el concepto básico de linealidad, fundamental en el desarrollo del curso. \n",
        "\n",
        "Un sistema es lineal si su respuesta ante la suma de dos entradas cualesquiera es la suma de su respuesta a cada una de las entradas por separado "
      ]
    },
    {
      "cell_type": "markdown",
      "metadata": {
        "id": "8chJbeF0dXmO",
        "colab_type": "text"
      },
      "source": [
        "# Linealidad\n",
        "\n",
        "Sea $L\\left\\{ \\cdot\\right\\}$  un operador, $f(x)$, $f\\left(x_{1}\\right)$ y $f\\left(x_{2}\\right)$ funciones de una variable $x\\in\\mathbb{R}$ (que en señales unidimensionales corresponde usualmente al tiempo), con los escalares $\\alpha\\in\\mathbb{R}$ y $\\beta\\in\\mathbb{R}$. \n",
        "\n",
        "Se dice que el operador $L$ es lineal si cumple con las propiedades de homogeneidad (también conocida como escalamiento) y superposición\n",
        "\n",
        "Homogeneidad (escalamiento) \n",
        "$$\n",
        " L\\{\\alpha f(x)\\}= \\alpha L\\{f(x)\\}\n",
        "$$\n",
        "Superposición\n",
        "$$\n",
        " L\\{f_1(x)+f_2(x)\\}= L\\{f_1(x)\\}+L\\{f_2(x)\\}\n",
        "$$\n",
        "\n",
        "Lo cual se puede resumir en una sola ecuación como: \n",
        "\n",
        "$$L\\left\\{ \\alpha f_{1}\\left(x\\right)+\\beta f_{2}\\left(x\\right)\\right\\} =\\alpha L\\left\\{ f_{1}(x)\\right\\} +\\beta L\\left\\{ f_{2}(x)\\right\\}$$\n"
      ]
    },
    {
      "cell_type": "markdown",
      "metadata": {
        "id": "ZObH4Wa1LSya",
        "colab_type": "text"
      },
      "source": [
        "## Ejemplos\n",
        "\n",
        "Sean los siguientes sistemas L cuya entrada es la función u(t) y la salida es g(t) con h(t) cualquiera.\n",
        "\n",
        " \n",
        "\n",
        "*   $g(t)=5\\,u(t)$. Con una entrada dada por $\\alpha u_{1}(t)+\\beta u_{2}(t)$, se tiene que:\n",
        "\n",
        "$L\\left\\{ \\alpha u_{1}(t)+\\beta u_{2}(t)\\right\\} =5\\left(\\alpha u_{1}(t)+\\beta u_{2}(t)\\right)=\\alpha\\,5\\,u_{1}(t)+\\beta\\,5\\,u_{2}(t)=\\alpha L\\left\\{ u_{1}(t)\\right\\} +\\beta L\\left\\{ u_{2}(t)\\right\\}$\n",
        "\n",
        "por lo tanto el sistema es lineal.\n",
        "\n",
        "\n",
        "*   $g(t)=\\sqrt{u(t)}$. Con una entrada dada por\n",
        "\n",
        "$\\alpha u_{1}(t)+\\beta u_{2}(t), se tiene que: L\\left\\{ \\alpha u_{1}(t)+\\beta u_{2}(t)\\right\\} =\\sqrt{\\left(\\alpha u_{1}(t)+\\beta u_{2}(t)\\right)}\\neq\\alpha\\sqrt{u_{1}(t)}+\\beta\\sqrt{u_{2}(t)}=\\alpha L\\left\\{ u_{1}(t)\\right\\} +\\beta L\\left\\{ u_{2}(t)\\right\\}$\n",
        "\n",
        "por lo tanto el sistema no es lineal. \n",
        "\n",
        "\n",
        "*   $g(t)=u(t)\\,\\cos\\left(\\omega t\\right)$. Con una entrada dada por \n",
        "\n",
        "$\\alpha u_{1}(t)+\\beta u_{2}(t), se tiene que: L\\left\\{ \\alpha u_{1}(t)+\\beta u_{2}(t)\\right\\} =\\alpha u_{1}(t)\\cos\\left(\\omega t\\right)+\\beta u_{2}(t)\\cos\\left(\\omega t\\right)=\\alpha L\\left\\{ u_{1}(t)\\right\\} +\\beta L\\left\\{ u_{2}(t)\\right\\}$\n",
        "\n",
        "por lo tanto el sistema es lineal. \n",
        "\n",
        "\n",
        "*   $g(t)=\\frac{1}{1+\\exp\\left(-u(t)\\right)}$. Con una entrada dada por $\\alpha u_{1}(t)+\\beta u_{2}(t)$, se tiene que: \n",
        "\n",
        "$L\\left\\{ \\alpha u_{1}(t)+\\beta u_{2}(t)\\right\\} =\\frac{1}{1+\\exp\\left(-\\alpha u_{1}(t)-\\beta u_{2}(t)\\right)}=\\frac{1}{1+\\exp\\left(-\\alpha u_{1}(t)\\right)\\exp\\left(-\\beta u_{2}(t)\\right)}$\n",
        "\n",
        "y dado que \n",
        "\n",
        "$\\alpha L\\left\\{ u_{1}(t)\\right\\} +\\beta L\\left\\{ u_{2}(t)\\right\\} =\\frac{\\alpha}{1+\\exp\\left(-u_{1}(t)\\right)}+\\frac{\\beta}{1+\\exp\\left(-u_{2}(t)\\right)}=\\frac{\\alpha\\left(1+\\exp\\left(-u_{2}(t)\\right)\\right)+\\beta\\left(1+\\exp\\left(-u_{1}(t)\\right)\\right)}{\\left(1+\\exp\\left(-u_{1}(t)\\right)\\right)\\left(1+\\exp\\left(-u_{2}(t)\\right)\\right)}$\n",
        "\n",
        "por lo que entonces en este caso $L\\left\\{ \\alpha u_{1}(t)+\\beta u_{2}(t)\\right\\} \\neq\\alpha L\\left\\{ u_{1}(t)\\right\\} +\\beta L\\left\\{ u_{2}(t)\\right\\}$, \n",
        "por lo que el sistema es no lineal.\n",
        "\n"
      ]
    },
    {
      "cell_type": "markdown",
      "metadata": {
        "id": "CrarwtFB60_N",
        "colab_type": "text"
      },
      "source": [
        "# Vectores: magnitud, dirección, norma, producto punto\n",
        "\n",
        "$\\mathbf{Definicion:}$ Un vector es una colleción de $n$ números ordenados, comúnmente escritos como una columna:\n",
        "$$$$\n",
        "\n",
        "$$\n",
        "x = \\begin{bmatrix}x_1 \\\\ x_2 \\\\ ... \\\\ x_n\\end{bmatrix}\n",
        "$$\n",
        "\n",
        "$$$$\n",
        "Los números $x_1, ... , x_n$ son coordenadas o componentes del vector $x$. \n",
        "$$$$\n",
        "Los componentes de un vector normalmente son números reales o complejos. En el primer caso $x_i \\in\\mathbb{R}^n$, en el segundo $x_i \\in \\mathbb{C}^n$.\n",
        "\n",
        "Los vectores también se pueden representar como líneas en espacio $n$-dimensional\n",
        "$$$$\n",
        "Dos líneas que describen un vector pueden tener la misma dirección y el mismo largo, pero originarse en puntos diferentes. La convención estándar es que puntos en $\\mathbb{R}^2$, por ejemplo, son dibujados en el plano de coordenadas desde el origen (0, 0) hasta el punto $A$, donde los puntos $x_1, x_2$ de $A$, representan los componentes."
      ]
    },
    {
      "cell_type": "markdown",
      "metadata": {
        "id": "IX5GLlF4659a",
        "colab_type": "text"
      },
      "source": [
        "# Operaciones con vectores\n",
        "\n",
        "$\\mathbf{Definicion:}$ El producto del vector $x$ con el escalar $\\alpha$ es un vector\n",
        "$$$$\n",
        "$$\n",
        "\\alpha x = \\alpha \\begin{bmatrix}x_1 \\\\ x_2 \\\\ ... \\\\ x_n\\end{bmatrix} = \n",
        "            \\begin{bmatrix} \\alpha x_1 \\\\ \\alpha x_2 \\\\ ... \\\\ \\alpha x_n\\end{bmatrix}\n",
        "$$\n",
        "\n",
        "$$$$\n",
        "\n",
        "Los vectores $a$ and $b$ para los que existe un escalar $\\alpha$ que cumple $a = \\alpha b$ or $b = \\alpha a$, con llamados $\\mathbf{vectores~colineares}$. Estos vectores, como su nombre sugiere, se encuentran sobre líneas paralelas."
      ]
    },
    {
      "cell_type": "markdown",
      "metadata": {
        "id": "DwxhkwGG65zy",
        "colab_type": "text"
      },
      "source": [
        "## Suma de vectores\n",
        "\n",
        "$\\mathbf{Definition:}$ La suma de dos vectores $x$ y $y$ es un vector\n",
        "$$$$\n",
        "$$\n",
        " x + y = \\begin{bmatrix}x_1 \\\\ x_2 \\\\ ... \\\\ x_n\\end{bmatrix} + \n",
        "         \\begin{bmatrix}y_1 \\\\ y_2 \\\\ ... \\\\ y_n\\end{bmatrix} = \n",
        "         \\begin{bmatrix} x_1 + y_1 \\\\ x_2 + y_2 \\\\ ... \\\\ x_n + y_n \\end{bmatrix}\n",
        "$$\n",
        "$$$$\n",
        "$\\mathbf{Atención!}$ Los vectores que se suman deben tener el mismo número de componentes."
      ]
    },
    {
      "cell_type": "markdown",
      "metadata": {
        "id": "iTUEZPAI65n9",
        "colab_type": "text"
      },
      "source": [
        ""
      ]
    },
    {
      "cell_type": "markdown",
      "metadata": {
        "id": "cQ3bycsH7EuL",
        "colab_type": "text"
      },
      "source": [
        "## Vector nulo\n",
        "\n",
        "$\\mathbf{Definicion:}$ El vector $0$ se define como el vector que causa $a + 0 = 0 + a = a$\n",
        "para cada vector $a$. Todos loc componentes del vector cero son igual a $0$. Cada vector $a$ tiene un vector opuesto $-a$ tal que $a + (-a) = 0$. La diferencia de dos vectores $a$ y $b$ es la suma $a + (-b)$ y se escribe de la misma forma que la operación básica para escalares $a - b$.\n",
        "$$$$\n",
        "$$\n",
        " a + 0 = \\begin{bmatrix}a_1 \\\\ a_2 \\\\ ... \\\\ a_n\\end{bmatrix} + \n",
        "         \\begin{bmatrix} 0 \\\\ 0 \\\\ ... \\\\ 0\\end{bmatrix} = \n",
        "         \\begin{bmatrix} a_1 \\\\ a_2 \\\\ ... \\\\ a_n\\end{bmatrix} = 0 + a = a\n",
        "$$"
      ]
    },
    {
      "cell_type": "markdown",
      "metadata": {
        "id": "frWoMOaz7EcR",
        "colab_type": "text"
      },
      "source": [
        "## Combinación lineal de vectores\n",
        "\n",
        "Cuando el producto con un escalar es combinado en secuencia con operaciones con otros vectores, obtenems combinaciones lineales.\n",
        "\n",
        "$$$$\n",
        "$\\mathbf{Definicion:}$ La combinación lineal de vectores $x$ y $y$ es la suma $\\alpha x + \\beta y$.\n",
        "$$$$\n",
        "$$\n",
        " \\alpha x + \\beta y = \\alpha \\begin{bmatrix}x_1 \\\\ x_2 \\\\ ... \\\\ x_n\\end{bmatrix} + \n",
        "       \\beta \\begin{bmatrix}y_1 \\\\ y_2 \\\\ ... \\\\ y_n\\end{bmatrix}\n",
        "$$\n",
        "$$$$\n",
        "De manera similar, una combinación lineal de varios vectores puede ser construída en secuencia, e.g.\n",
        "$\\alpha a + \\beta b + · · · + \\zeta z$ es una combinación lineal de vectores $a, b, ... , z$.\n",
        "\n",
        "$$$$\n",
        "$\\mathbf{Atención!}$ Todos los vectores en la combinación lineal deben tener la misma cantidad de componentes\n",
        "$$$$\n",
        "$\\mathbf{Nota:}$ Un conjunto de conjunto de combinaciones lineales de dos vectores $a$ y $b$ forma un plano, excepto\n",
        "cuando los vectores son colineares. En este caso, hay un conjunto de todas las combinaciones lineales que es la línea en la que ambos vectores residen."
      ]
    },
    {
      "cell_type": "markdown",
      "metadata": {
        "id": "s_ixDh1n7ELi",
        "colab_type": "text"
      },
      "source": [
        "## Producto escalar\n",
        "\n",
        "$$$$\n",
        "$\\mathbf{Definition:}$ El producto escalar de vectores\n",
        "$x = \\begin{bmatrix}x_1 \\\\ x_2 \\\\ ... \\\\ x_n\\end{bmatrix}$ y \n",
        "$y = \\begin{bmatrix}y_1 \\\\ y_2 \\\\ ... \\\\ y_n\\end{bmatrix}$ es el número $x \\cdot y = x_1y_1 + x_2y_2 + · · · + x_ny_n$.\n",
        "$$$$\n",
        "\n",
        "$\\mathbf{Atención!}$ Los vectores utilizados en el producto escalar deben tener el mismo número de componentes.\n",
        "\n",
        "$$$$\n",
        "\n",
        "Puede ser fácilmente verificado que el producto escalar tiene las siguientes propiedades:\n",
        "    \n",
        "$$$$\n",
        "$\\mathbf{Propiedad~1:}$ Conmutativa: $x · y = y · x$.\n",
        "$$$$\n",
        "$\\mathbf{Propiedad~2:}$ Distributiva: $x · (y + z) = x · y + x · z$.\n",
        "$$$$\n",
        "$\\mathbf{Propiedad~3:}$ Asociativa: $x · (\\alpha y) = \\alpha(x · y) = (\\alpha x) · y$.\n",
        "$$$$\n",
        "$\\mathbf{Propiedad~4:}$ Definición positiva: para cada vector $x$, $x \\cdot x \\ge 0$. If $x \\cdot x = 0$, entonces $x = 0$.\n",
        "$$$$"
      ]
    },
    {
      "cell_type": "markdown",
      "metadata": {
        "id": "gRg8HuoN7Whu",
        "colab_type": "text"
      },
      "source": [
        "## Magnitud\n",
        "En el conjunto $\\mathbb{R}^2$ se puede utilizar la regla de Pitágoras para calcular el largo de un vector. Los catetos están formados por el eje de las $x$, siguiendo la distancia indicada por el vector, y una línea paralela al eje $y$. De esta forma, se tiene un triángulo rectangular cuya hipotenusa es el vector en cuestión. Su largo, por ende, se puede calcular como $\\sqrt{x^2 + y^2}$.\n",
        "\n",
        "$$$$\n",
        "Para vectores en más dimensiones $\\mathbb{R}^N$, el largo del vector puede ser calculado de manera similar:\n",
        "$x_1^2 + x_2^2 + ... + x_n^2$, que puede ser expresado en forma de vector como $\\sqrt{x \\cdot x}$.\n",
        "    \n",
        "\n",
        "\n",
        "$$$$\n",
        "$\\mathbf{Definicion:}$ El largo del vector x es\n",
        "$ \\|x\\| = \\sqrt{x \\cdot x}$.\n",
        "$$$$\n",
        "\n",
        "Vectors with a length one have a special role among the vectors.\n",
        "\n",
        "$$$$\n",
        "$\\mathbf{Definicion:}$ El vector unitario tiene un largo de $1$.\n",
        "$$$$"
      ]
    },
    {
      "cell_type": "markdown",
      "metadata": {
        "id": "wCl9eJ7k7YVZ",
        "colab_type": "text"
      },
      "source": [
        "## Ángulo entre dos vectores\n",
        "$$$$\n",
        "$\\mathbf{Teorema:}$ Los vectores $x$ y $y$ son ortogonales (o rectangulares) exactamente cuando  $x · y = 0$.\n",
        "$$$$\n",
        "$\\mathbf{Teorema:}$ Si denotamos el ángulo entre dos vectores $x$ y $y$ como $\\varphi$ entonces\n",
        "$$$$\n",
        "$$\\frac{x \\cdot y}{\\|x\\| \\cdot \\|y\\|} = \\cos \\varphi$$"
      ]
    },
    {
      "cell_type": "markdown",
      "metadata": {
        "id": "AH_sp76k7clR",
        "colab_type": "text"
      },
      "source": [
        "## Dirección de un vector\n",
        "$$$$\n",
        "$\\mathbf{Teorema:}$ Un vector $x$ puede ser normalizado al dividir sus componentes por el largo $\\|x\\|$: $x_{norma} = \\frac{x}{\\|x\\|}$. \n",
        "El vector $x_{norma}$ también se llama vector unitario y representa la dirección del vector inicial.\n",
        "    \n",
        "$$$$\n",
        "Podemos escribir los componentes del vector unitario como cosenos direccionales: \n",
        "        \n",
        "$$x_{norma} = \\begin{bmatrix} \\frac{x_1}{\\|x\\|} \\\\ \\frac{x_2}{\\|x\\|} \\\\ \\frac{x_3}{\\|x\\|} \\end{bmatrix}\n",
        "= \\begin{bmatrix} \\cos \\alpha \\\\ \\cos \\beta \\\\ \\cos \\gamma \\end{bmatrix}, $$\n",
        "\n",
        "donde $\\alpha, \\beta, \\gamma$ son los ángulos direccionales definidos con respecto a los ejes base.\n"
      ]
    },
    {
      "cell_type": "markdown",
      "metadata": {
        "id": "rkToAidB7f0b",
        "colab_type": "text"
      },
      "source": [
        "## Producto de vectores (producto cruz)\n",
        "\n",
        "$\\mathbf{Definicion:}$ El producto de dos vectores $a$ y $b$ es otro vector: \n",
        "\n",
        "$$ a \\times b = \\begin{bmatrix}a_1 \\\\ a_2 \\\\ a_3\\end{bmatrix} \\times \n",
        "              \\begin{bmatrix} b_1 \\\\ b_2 \\\\ b_3\\end{bmatrix} = \n",
        "              \\begin{bmatrix}a_2 b_3 - a_3 b_2 \\\\ a_3 b_1 - a_1 b_3 \\\\ a_1 b_2 - a_2 b_1\\end{bmatrix} $$\n",
        "\n",
        "\n",
        "El producto cruz $a \\times b$ es un vector que es perpendicular al plano en el que los vectores $a$ y $b$ se encuentran.\n",
        "\n",
        "Su largo es igual al paralelogramo que los vectores $a$ y $b$ contienen.\n"
      ]
    },
    {
      "cell_type": "markdown",
      "metadata": {
        "id": "wR4Vabor7jKn",
        "colab_type": "text"
      },
      "source": [
        "# Ejercicios"
      ]
    },
    {
      "cell_type": "markdown",
      "metadata": {
        "colab_type": "text",
        "id": "3uCtcT9FFQ_X"
      },
      "source": [
        "## Install Dependencies"
      ]
    },
    {
      "cell_type": "code",
      "metadata": {
        "colab_type": "code",
        "id": "yqk8N_AeFRFX",
        "outputId": "1a914210-32a4-40cc-f55e-b6e905d56fc5",
        "colab": {
          "base_uri": "https://localhost:8080/",
          "height": 52
        }
      },
      "source": [
        "# Since Collab is being used, it is necessary to install Pytorch\n",
        "!pip install torch\n",
        "import torch as torch\n",
        "\n",
        "import numpy as np\n",
        "from matplotlib import pyplot as plt\n",
        "from mpl_toolkits.mplot3d import Axes3D\n",
        "from matplotlib import cm\n",
        "\n",
        "\n"
      ],
      "execution_count": 1,
      "outputs": [
        {
          "output_type": "stream",
          "text": [
            "Requirement already satisfied: torch in /usr/local/lib/python3.6/dist-packages (1.2.0)\n",
            "Requirement already satisfied: numpy in /usr/local/lib/python3.6/dist-packages (from torch) (1.16.5)\n"
          ],
          "name": "stdout"
        }
      ]
    },
    {
      "cell_type": "code",
      "metadata": {
        "id": "iyuBQcxGdXmP",
        "colab_type": "code",
        "outputId": "d656f6ed-4ab7-4a74-a846-29772d4546fc",
        "colab": {
          "base_uri": "https://localhost:8080/",
          "height": 52
        }
      },
      "source": [
        "\n",
        "def sigmoid(x):\n",
        "  \"\"\"\n",
        "  Sample sigmoid function\n",
        "  param x: input array\n",
        "  return y: sigmoid output\n",
        "  \"\"\"\n",
        "  y = 1 / (1 + torch.exp(-1 * x));\n",
        "  return y;\n",
        "\n",
        "def linealFunction(x):\n",
        "  \"\"\"\n",
        "  Sample lineal function\n",
        "  param x: input array\n",
        "  return y: 5x\n",
        "  \"\"\"\n",
        "  y = 5*x\n",
        "  return y;\n",
        "\n",
        "\n",
        "def checkLinearity(operator):\n",
        "  \n",
        "  x = torch.arange(0.0, 5.0, 0.1)\n",
        "  \n",
        "  #create series of values from -1 to 1, with step 0.01\n",
        "  \n",
        "  \n",
        "  #samplescalars\n",
        "  alpha = torch.randn(1,1);\n",
        "  beta = torch.randn(1,1)\n",
        "  #sample functions\n",
        "  f1 = lambda x: x + 2\n",
        "  f2 = lambda x: x * x\n",
        "  \n",
        "  #compute left and right side of the equation\n",
        "  \n",
        "  right = alpha * operator(f1(x)) + beta * operator(f2(x))\n",
        "  left = operator(alpha * f1(x) + beta * f2(x))\n",
        "  \n",
        "  difference = torch.abs(right - left);\n",
        "  \n",
        "  \n",
        "  sumDifference = difference.sum()\n",
        "  #Is linear?\n",
        "  return (sumDifference < 0.0001)\n",
        "  \n",
        " \n",
        "\n",
        "\n",
        "print(\"prueba1 \", checkLinearity(linealFunction))\n",
        "\n",
        "print(\"prueba2 \", checkLinearity(sigmoid))\n",
        "\n"
      ],
      "execution_count": 2,
      "outputs": [
        {
          "output_type": "stream",
          "text": [
            "prueba1  tensor(True)\n",
            "prueba2  tensor(False)\n"
          ],
          "name": "stdout"
        }
      ]
    },
    {
      "cell_type": "markdown",
      "metadata": {
        "colab_type": "text",
        "id": "LDRQBcuic54b"
      },
      "source": [
        "## Dot product\n",
        "\n",
        "The dot product between to matrices $A\\in \\mathbb{R}^{2\\times3}$ and $B \\in \\mathbb{R}^{3\\times2}$, and vectors $w \\in \\mathbb{R}^{1\\times3}$ and $v \\in \\mathbb{R}^{1\\times3}$, is calculated as follows:"
      ]
    },
    {
      "cell_type": "code",
      "metadata": {
        "colab_type": "code",
        "id": "pCyH9GOCvxBk",
        "outputId": "75034ec8-88d7-4ddc-858c-1640c0c83b23",
        "colab": {
          "base_uri": "https://localhost:8080/",
          "height": 104
        }
      },
      "source": [
        "def calculateAngleVectors(w, v):\n",
        "  \"\"\"\n",
        "  Calculates the angle between two vectors\n",
        "  param w, vector1\n",
        "  param v, vector 2\n",
        "  return angle in radians\n",
        "  \"\"\"\n",
        "  dotProd = w.dot(v);\n",
        "  print(\"dotProd\", dotProd) \n",
        "  \n",
        "  #L2 norm (P=2), along first dimension\n",
        "  normW = torch.norm(w, p = 2)\n",
        "  normV = torch.norm(v, p = 2)\n",
        "  angleRadians = torch.acos(dotProd / (normW * normV));\n",
        "  angleDegrees = (angleRadians / torch.tensor(np.pi)) * 180;\n",
        "  \n",
        "  return angleDegrees\n",
        "  \n",
        "#Select device\n",
        "device = torch.device(\"cpu\") \n",
        "# device = torch.device(\"cuda:0\")\n",
        "\n",
        "\n",
        "#create literal tensors\n",
        "w = torch.tensor([1, 2, 3], device = device)\n",
        "v = torch.tensor([5, 6, 7], device = device)\n",
        "#create an array with values between X and Y, with a step of D\n",
        "series = torch.arange(-1.0, 1.0, 0.01)\n",
        "\n",
        "\n",
        "\n",
        "\n",
        "#.0 to ensure float tensors\n",
        "a = torch.tensor([1.0, 0.0])\n",
        "b = torch.tensor([0.0, 1.0])\n",
        "#calculate angle between vectors\n",
        "angle = calculateAngleVectors(a, b)\n",
        "print(\"Angle between vectors: \", angle)\n",
        "\n",
        "#random numbers\n",
        "y = torch.randn(1, 3, dtype = torch.float)\n",
        "#vector of ones\n",
        "x = torch.ones(1,3, dtype = torch.float)\n",
        "\n",
        "#to get tensor dimensions, we use shape\n",
        "print(w.shape)\n",
        "#Dot product\n",
        "dotProduct = w.dot(v)\n",
        "print(\"Dot product: \", dotProduct)\n",
        "print(y)"
      ],
      "execution_count": 3,
      "outputs": [
        {
          "output_type": "stream",
          "text": [
            "dotProd tensor(0.)\n",
            "Angle between vectors:  tensor(90.)\n",
            "torch.Size([3])\n",
            "Dot product:  tensor(38)\n",
            "tensor([[-0.6348,  0.7760, -1.3913]])\n"
          ],
          "name": "stdout"
        }
      ]
    },
    {
      "cell_type": "code",
      "metadata": {
        "id": "9j3lVMsEMBY_",
        "colab_type": "code",
        "outputId": "ee752e14-8378-4fa2-904c-0bd25f3d66ef",
        "colab": {
          "base_uri": "https://localhost:8080/",
          "height": 52
        }
      },
      "source": [
        "v = torch.tensor([1.0, 2.0, 4.0])\n",
        "a = torch.tensor([2.0, 2.0, 2.0])\n",
        "w = torch.randn(1, 3)\n",
        "c = v * a\n",
        "serie = torch.arange(-1.0, 1.0, 0.1)\n",
        "print(c)\n",
        "print(c.shape)\n"
      ],
      "execution_count": 4,
      "outputs": [
        {
          "output_type": "stream",
          "text": [
            "tensor([2., 4., 8.])\n",
            "torch.Size([3])\n"
          ],
          "name": "stdout"
        }
      ]
    },
    {
      "cell_type": "markdown",
      "metadata": {
        "id": "c49usPNZsd8R",
        "colab_type": "text"
      },
      "source": [
        "## Plot Hiperplane\n",
        "\n",
        "To plot hiperplane given with input $\\vec{x}, \\vec{m}  \\in \\mathbb{R}^{3} $, including the bias\n",
        "\n",
        "\n",
        "$$\n",
        " z = f(\\vec{x}) = \\vec{m} \\cdot \\vec{x}  $$"
      ]
    },
    {
      "cell_type": "code",
      "metadata": {
        "id": "8cn_OtNuwShp",
        "colab_type": "code",
        "outputId": "df6c3046-4f77-4b52-ad7b-73a12409236a",
        "colab": {
          "base_uri": "https://localhost:8080/",
          "height": 248
        }
      },
      "source": [
        "figure = plt.figure()\n",
        "figureSurface = figure.gca(projection = '3d')\n",
        "#create 1D tensors\n",
        "x = torch.arange(0.0, 5.0, 0.01)\n",
        "y = torch.arange(0.0, 6.0, 0.01)\n",
        "#Create 2D tensors with variation along the two axis\n",
        "X,Y = torch.meshgrid(x, y)\n",
        "#compute hiperplane function\n",
        "Z = 2.1 * X + Y + 2\n",
        "#create figure surface\n",
        "surface = figureSurface.plot_surface(X.numpy(), Y.numpy(), Z.numpy(), cmap = cm.coolwarm,\n",
        "                       linewidth=0, antialiased=False)\n",
        "#\n",
        "plt.show()\n",
        "\n",
        "\n",
        "\n"
      ],
      "execution_count": 5,
      "outputs": [
        {
          "output_type": "display_data",
          "data": {
            "image/png": "[encoded data removed]",
            "text/plain": [
              "<Figure size 432x288 with 1 Axes>"
            ]
          },
          "metadata": {
            "tags": []
          }
        }
      ]
    },
    {
      "cell_type": "markdown",
      "metadata": {
        "id": "Skh-3WdGdXmf",
        "colab_type": "text"
      },
      "source": [
        "##Porting vectors (1D tensors) to matrices (2D tensors)\n",
        "\n",
        "We usually work with 2D tensors, thus is frequent to convert them to 2d tensors:"
      ]
    },
    {
      "cell_type": "code",
      "metadata": {
        "id": "8KWS0q0IdXmf",
        "colab_type": "code",
        "outputId": "5dd88902-5d8f-458e-faa9-4924c135071a",
        "colab": {
          "base_uri": "https://localhost:8080/",
          "height": 121
        }
      },
      "source": [
        "#row vector in 2D tensor\n",
        "w2Drow = w.reshape(-1, w.shape[0])\n",
        "#column vector in 2D tensor, -1 for n rows or columns\n",
        "v2Dcolumn = v.reshape(v.shape[0], -1)\n",
        "print(w2Drow)\n",
        "print(v2Dcolumn)\n",
        "# Dot product of matrices doesnt exist for 2D Tensors\n",
        "A = torch.tensor([[1, 2, 3],[1, 2, 3]])\n",
        "B = torch.tensor([[5, 5],[6, 6],[7, 7]])\n",
        "#WE RECOMMEND ALWAYS USE 2D TENSORS, EVEN IF IT IS A VECTOR\n",
        "#dotProduct = A.dot(B) it doesnt work, it is defined for 1D tensors only. \n",
        "#SOME OPERATORS ARE DEFINED FOR 1D TENSORS ONLY, AND SOME OF THEM ARE DEFINED FOR 2D TENSORS\n",
        "\n"
      ],
      "execution_count": 6,
      "outputs": [
        {
          "output_type": "stream",
          "text": [
            "tensor([[-1.4775],\n",
            "        [ 0.7952],\n",
            "        [-0.6485]])\n",
            "tensor([[1.],\n",
            "        [2.],\n",
            "        [4.]])\n"
          ],
          "name": "stdout"
        }
      ]
    },
    {
      "cell_type": "markdown",
      "metadata": {
        "id": "oEPzL6WydXmj",
        "colab_type": "text"
      },
      "source": [
        "## Matrix indexing and concatenation\n",
        "Tensors can be indexed using the slicing operators, and concatenated using the function cat"
      ]
    },
    {
      "cell_type": "code",
      "metadata": {
        "id": "REcpB5fXdXmk",
        "colab_type": "code",
        "outputId": "36b74eab-48c2-485f-8683-a6cef6c5ba23",
        "colab": {
          "base_uri": "https://localhost:8080/",
          "height": 139
        }
      },
      "source": [
        "#Create a matrix C, concatenating the matrix A along its rows\n",
        "C = torch.cat((A, A), 0)\n",
        "#Create a matrix D, concatenating the matrix A along its columns\n",
        "D = torch.cat((B, B), 1)\n",
        "\n",
        "#Put ceros in column 1 and 2, from row 0\n",
        "C[0, 1:3] = 0;\n",
        "print(C)\n",
        "\n",
        "\n",
        "#Put ones in column 1 and all the rows\n",
        "D[:, 1] = 1\n",
        "print(D)\n"
      ],
      "execution_count": 7,
      "outputs": [
        {
          "output_type": "stream",
          "text": [
            "tensor([[1, 0, 0],\n",
            "        [1, 2, 3],\n",
            "        [1, 2, 3],\n",
            "        [1, 2, 3]])\n",
            "tensor([[5, 1, 5, 5],\n",
            "        [6, 1, 6, 6],\n",
            "        [7, 1, 7, 7]])\n"
          ],
          "name": "stdout"
        }
      ]
    },
    {
      "cell_type": "markdown",
      "metadata": {
        "id": "LWlnjvm5dXmn",
        "colab_type": "text"
      },
      "source": [
        "## Matrix flatenning\n",
        "Matrix flatenning refers to create a column or row vector with all the elements within a matrix.\n",
        "See more at http://deeplizard.com/learn/video/fCVuiW9AFzY"
      ]
    },
    {
      "cell_type": "code",
      "metadata": {
        "id": "KnmH1QerdXmo",
        "colab_type": "code",
        "outputId": "fe0667f0-e825-4d79-e122-69a516bf2afe",
        "colab": {
          "base_uri": "https://localhost:8080/",
          "height": 139
        }
      },
      "source": [
        "Af= A.reshape(A.shape[0] * A.shape[1], -1)\n",
        "print(Af)\n",
        "\n",
        "#if we want to remove one dimension of the tensor, we can use squeeze, transforming from 2D to 1D tensor\n",
        "Afs = Af.squeeze()\n",
        "print(Afs)\n",
        "\n"
      ],
      "execution_count": 8,
      "outputs": [
        {
          "output_type": "stream",
          "text": [
            "tensor([[1],\n",
            "        [2],\n",
            "        [3],\n",
            "        [1],\n",
            "        [2],\n",
            "        [3]])\n",
            "tensor([1, 2, 3, 1, 2, 3])\n"
          ],
          "name": "stdout"
        }
      ]
    },
    {
      "cell_type": "markdown",
      "metadata": {
        "id": "-ELTagA6dXms",
        "colab_type": "text"
      },
      "source": [
        "## Matrix Transpose\n",
        "The transpose operation is only defined for 2D tensors"
      ]
    },
    {
      "cell_type": "code",
      "metadata": {
        "id": "4PdJ-fhXdXmt",
        "colab_type": "code",
        "outputId": "34e9b0ff-45da-4413-c0c3-4276c92590fb",
        "colab": {
          "base_uri": "https://localhost:8080/",
          "height": 87
        }
      },
      "source": [
        "#transpose receives the first dim0 to switch, and the second dim1 to swap, usually 0,1 is the order\n",
        "wDrowT = w2Drow.transpose(0, 1)\n",
        "v2DcolumnT = v2Dcolumn.transpose(0, 1)\n",
        "print(wDrowT)\n",
        "print(v2Dcolumn)"
      ],
      "execution_count": 9,
      "outputs": [
        {
          "output_type": "stream",
          "text": [
            "tensor([[-1.4775,  0.7952, -0.6485]])\n",
            "tensor([[1.],\n",
            "        [2.],\n",
            "        [4.]])\n"
          ],
          "name": "stdout"
        }
      ]
    },
    {
      "cell_type": "markdown",
      "metadata": {
        "id": "lmkd42vGdXmw",
        "colab_type": "text"
      },
      "source": [
        "## Vector plotting\n",
        "To plot a vector, we need to transform the pytorch tensors to numpy arrays, since most libraries use numpy. \n",
        "We build a matrix with a vector per row"
      ]
    },
    {
      "cell_type": "code",
      "metadata": {
        "id": "57KsIbvxdXmx",
        "colab_type": "code",
        "outputId": "7c538d28-4875-46a1-97b4-3c18e76f1b9c",
        "colab": {
          "base_uri": "https://localhost:8080/",
          "height": 356
        }
      },
      "source": [
        "#convert tensors to 2D numpy arrays \n",
        "#tensor.numpy() converts a tensor to a numpy array\n",
        "#reshape creates a 2D numpy array, by taking all the rows (-1 parameter), and the 3 columns of the vector\n",
        "v = torch.tensor( [ v.numpy() ] ) \n",
        "print(\"v: \", v)\n",
        "print(\"w: \", w)\n",
        "\n",
        "wNumpy = w.numpy().reshape(-1, w.shape[0])\n",
        "\n",
        "vNumpy = v.numpy().reshape(-1, v.shape[0])\n",
        "#concatenate(tuple, axis) takes a tuple of 2d or 1d arrays (a, b, c), and concatenates them along axis  0 or 1\n",
        "#one vector per column\n",
        "Vectors = np.concatenate((wNumpy, vNumpy), axis = 1)\n",
        "\n",
        "print(Vectors)\n",
        "\n",
        "\n",
        "\n",
        "V = np.array([[1,1],[-2,2],[4,-7]])\n",
        "origin = [0] # origin point\n",
        "\n",
        "plt.quiver(origin, origin, Vectors[:,0], Vectors[:,1], color=['r','b','g'], scale=21)\n",
        "plt.show()"
      ],
      "execution_count": 10,
      "outputs": [
        {
          "output_type": "stream",
          "text": [
            "v:  tensor([[1., 2., 4.]])\n",
            "w:  tensor([[-1.4775,  0.7952, -0.6485]])\n",
            "[[-1.4774622   1.        ]\n",
            " [ 0.7952134   2.        ]\n",
            " [-0.64850956  4.        ]]\n"
          ],
          "name": "stdout"
        },
        {
          "output_type": "display_data",
          "data": {
            "image/png": "[encoded data removed]",
            "text/plain": [
              "<Figure size 432x288 with 1 Axes>"
            ]
          },
          "metadata": {
            "tags": []
          }
        }
      ]
    },
    {
      "cell_type": "markdown",
      "metadata": {
        "colab_type": "text",
        "id": "2LuIU2gKc54q"
      },
      "source": [
        "## Matrix multiplication\n",
        "\n",
        "Matrix multiplication C = A B can be interpreted as a dot product of the rows in A and the columns in B\n",
        "\n",
        "\n"
      ]
    },
    {
      "cell_type": "code",
      "metadata": {
        "colab_type": "code",
        "id": "ABhKozT0vwW_",
        "outputId": "bf12193b-fc00-41ff-f132-73f47ce7df21",
        "colab": {
          "base_uri": "https://localhost:8080/",
          "height": 52
        }
      },
      "source": [
        "C = A.mm(B)\n",
        "print(C)"
      ],
      "execution_count": 11,
      "outputs": [
        {
          "output_type": "stream",
          "text": [
            "tensor([[38, 38],\n",
            "        [38, 38]])\n"
          ],
          "name": "stdout"
        }
      ]
    },
    {
      "cell_type": "markdown",
      "metadata": {
        "colab_type": "text",
        "id": "W26r-trbc540"
      },
      "source": [
        "## Element wise multiplication of matrices\n",
        "\n",
        "The element wise multiplication of matrices A and B result in a matrix C with same dimensions, and multiplies its entries.\n"
      ]
    },
    {
      "cell_type": "code",
      "metadata": {
        "colab_type": "code",
        "id": "3m3ZPiEhkkmm",
        "outputId": "a8a4be30-971b-4651-db3a-be8b25605d3e",
        "colab": {
          "base_uri": "https://localhost:8080/",
          "height": 69
        }
      },
      "source": [
        "A = torch.tensor([[1, 2], [3, 0]])\n",
        "B = torch.tensor([[5, 6], [7, 0]])\n",
        "C = A * B\n",
        "print(C)\n",
        "#Element wise multiplication allows us to calculate dot product of matrices\n",
        "dotProduct = C.sum()\n",
        "print(\"Dot product: \", dotProduct)"
      ],
      "execution_count": 12,
      "outputs": [
        {
          "output_type": "stream",
          "text": [
            "tensor([[ 5, 12],\n",
            "        [21,  0]])\n",
            "Dot product:  tensor(38)\n"
          ],
          "name": "stdout"
        }
      ]
    }
  ]
}